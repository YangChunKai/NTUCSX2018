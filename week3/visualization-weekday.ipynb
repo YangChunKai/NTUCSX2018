{
 "cells": [
  {
   "cell_type": "markdown",
   "metadata": {},
   "source": [
    "## 使用 matplotlib 進行資料視覺化\n",
    "1. 先造出用來放畫布的 figure \n",
    "2. 造出用來畫畫的畫布 axe \n",
    "3. 畫在畫布 axe 上 \n",
    "4. 更多細節設定，像是 x, y軸 \n",
    "5. 顯示 show 出來"
   ]
  },
  {
   "cell_type": "code",
   "execution_count": 1,
   "metadata": {},
   "outputs": [],
   "source": [
    "import matplotlib.pyplot as plt\n",
    "import pandas as pd\n",
    "import numpy as np\n",
    "plt.style.use('ggplot')\n",
    "%matplotlib inline"
   ]
  },
  {
   "cell_type": "code",
   "execution_count": 2,
   "metadata": {},
   "outputs": [
    {
     "name": "stderr",
     "output_type": "stream",
     "text": [
      "D:\\Anaconda3\\lib\\site-packages\\IPython\\core\\interactiveshell.py:2785: DtypeWarning: Columns (23) have mixed types. Specify dtype option on import or set low_memory=False.\n",
      "  interactivity=interactivity, compiler=compiler, result=result)\n"
     ]
    }
   ],
   "source": [
    "df = pd.read_csv(r'Orders.csv')"
   ]
  },
  {
   "cell_type": "code",
   "execution_count": 3,
   "metadata": {},
   "outputs": [
    {
     "data": {
      "text/html": [
       "<div>\n",
       "<style scoped>\n",
       "    .dataframe tbody tr th:only-of-type {\n",
       "        vertical-align: middle;\n",
       "    }\n",
       "\n",
       "    .dataframe tbody tr th {\n",
       "        vertical-align: top;\n",
       "    }\n",
       "\n",
       "    .dataframe thead th {\n",
       "        text-align: right;\n",
       "    }\n",
       "</style>\n",
       "<table border=\"1\" class=\"dataframe\">\n",
       "  <thead>\n",
       "    <tr style=\"text-align: right;\">\n",
       "      <th></th>\n",
       "      <th>DateId</th>\n",
       "      <th>MemberId</th>\n",
       "      <th>OrderGroupCode</th>\n",
       "      <th>TrackSourceTypeDef</th>\n",
       "      <th>TrackDeviceTypeDef</th>\n",
       "      <th>PayProfileTypeDef</th>\n",
       "      <th>SalesOrderSlaveId</th>\n",
       "      <th>SalePageId</th>\n",
       "      <th>IsMajor</th>\n",
       "      <th>IsGift</th>\n",
       "      <th>...</th>\n",
       "      <th>SalesOrderReceiverId</th>\n",
       "      <th>City</th>\n",
       "      <th>District</th>\n",
       "      <th>ZipCode</th>\n",
       "      <th>StoreName</th>\n",
       "      <th>StoreId</th>\n",
       "      <th>DeliverTypeDef</th>\n",
       "      <th>StatusDef</th>\n",
       "      <th>ReturnGoodsDateId</th>\n",
       "      <th>CauseDef</th>\n",
       "    </tr>\n",
       "  </thead>\n",
       "  <tbody>\n",
       "    <tr>\n",
       "      <th>0</th>\n",
       "      <td>20150703</td>\n",
       "      <td>1388133</td>\n",
       "      <td>b'\\xd0_\\x8eby\\xe8\\x88\\xa5\\x85\\xe4\\x15\\nMC\\xeaO...</td>\n",
       "      <td>Web</td>\n",
       "      <td>Mobile</td>\n",
       "      <td>SevenEleven</td>\n",
       "      <td>4457777</td>\n",
       "      <td>1242871</td>\n",
       "      <td>True</td>\n",
       "      <td>False</td>\n",
       "      <td>...</td>\n",
       "      <td>1480890</td>\n",
       "      <td>嘉義縣</td>\n",
       "      <td>水上鄉</td>\n",
       "      <td>608.0</td>\n",
       "      <td>中庄門市</td>\n",
       "      <td>910828</td>\n",
       "      <td>SevenEleven</td>\n",
       "      <td>Finish</td>\n",
       "      <td>NaN</td>\n",
       "      <td>NaN</td>\n",
       "    </tr>\n",
       "    <tr>\n",
       "      <th>1</th>\n",
       "      <td>20150703</td>\n",
       "      <td>1388133</td>\n",
       "      <td>b'\\xd0_\\x8eby\\xe8\\x88\\xa5\\x85\\xe4\\x15\\nMC\\xeaO...</td>\n",
       "      <td>Web</td>\n",
       "      <td>Mobile</td>\n",
       "      <td>SevenEleven</td>\n",
       "      <td>4457778</td>\n",
       "      <td>1242880</td>\n",
       "      <td>True</td>\n",
       "      <td>False</td>\n",
       "      <td>...</td>\n",
       "      <td>1480890</td>\n",
       "      <td>嘉義縣</td>\n",
       "      <td>水上鄉</td>\n",
       "      <td>608.0</td>\n",
       "      <td>中庄門市</td>\n",
       "      <td>910828</td>\n",
       "      <td>SevenEleven</td>\n",
       "      <td>Finish</td>\n",
       "      <td>NaN</td>\n",
       "      <td>NaN</td>\n",
       "    </tr>\n",
       "    <tr>\n",
       "      <th>2</th>\n",
       "      <td>20150703</td>\n",
       "      <td>1388133</td>\n",
       "      <td>b'\\xd0_\\x8eby\\xe8\\x88\\xa5\\x85\\xe4\\x15\\nMC\\xeaO...</td>\n",
       "      <td>Web</td>\n",
       "      <td>Mobile</td>\n",
       "      <td>SevenEleven</td>\n",
       "      <td>4457779</td>\n",
       "      <td>1242880</td>\n",
       "      <td>True</td>\n",
       "      <td>False</td>\n",
       "      <td>...</td>\n",
       "      <td>1480890</td>\n",
       "      <td>嘉義縣</td>\n",
       "      <td>水上鄉</td>\n",
       "      <td>608.0</td>\n",
       "      <td>中庄門市</td>\n",
       "      <td>910828</td>\n",
       "      <td>SevenEleven</td>\n",
       "      <td>Finish</td>\n",
       "      <td>NaN</td>\n",
       "      <td>NaN</td>\n",
       "    </tr>\n",
       "    <tr>\n",
       "      <th>3</th>\n",
       "      <td>20150703</td>\n",
       "      <td>1388133</td>\n",
       "      <td>b'\\xd0_\\x8eby\\xe8\\x88\\xa5\\x85\\xe4\\x15\\nMC\\xeaO...</td>\n",
       "      <td>Web</td>\n",
       "      <td>Mobile</td>\n",
       "      <td>SevenEleven</td>\n",
       "      <td>4457780</td>\n",
       "      <td>1175574</td>\n",
       "      <td>True</td>\n",
       "      <td>False</td>\n",
       "      <td>...</td>\n",
       "      <td>1480890</td>\n",
       "      <td>嘉義縣</td>\n",
       "      <td>水上鄉</td>\n",
       "      <td>608.0</td>\n",
       "      <td>中庄門市</td>\n",
       "      <td>910828</td>\n",
       "      <td>SevenEleven</td>\n",
       "      <td>Finish</td>\n",
       "      <td>NaN</td>\n",
       "      <td>NaN</td>\n",
       "    </tr>\n",
       "    <tr>\n",
       "      <th>4</th>\n",
       "      <td>20150703</td>\n",
       "      <td>365787</td>\n",
       "      <td>b\"\\x04?}pe$m\\x7f\\x85\\xa0y\\x81'e5\\xca\\xbb\\xf9\\x...</td>\n",
       "      <td>Web</td>\n",
       "      <td>Mobile</td>\n",
       "      <td>SevenEleven</td>\n",
       "      <td>4457791</td>\n",
       "      <td>1194488</td>\n",
       "      <td>True</td>\n",
       "      <td>False</td>\n",
       "      <td>...</td>\n",
       "      <td>1480896</td>\n",
       "      <td>桃園市</td>\n",
       "      <td>中壢區</td>\n",
       "      <td>320.0</td>\n",
       "      <td>復華門市</td>\n",
       "      <td>114071</td>\n",
       "      <td>SevenEleven</td>\n",
       "      <td>Finish</td>\n",
       "      <td>NaN</td>\n",
       "      <td>NaN</td>\n",
       "    </tr>\n",
       "  </tbody>\n",
       "</table>\n",
       "<p>5 rows × 28 columns</p>\n",
       "</div>"
      ],
      "text/plain": [
       "     DateId  MemberId                                     OrderGroupCode  \\\n",
       "0  20150703   1388133  b'\\xd0_\\x8eby\\xe8\\x88\\xa5\\x85\\xe4\\x15\\nMC\\xeaO...   \n",
       "1  20150703   1388133  b'\\xd0_\\x8eby\\xe8\\x88\\xa5\\x85\\xe4\\x15\\nMC\\xeaO...   \n",
       "2  20150703   1388133  b'\\xd0_\\x8eby\\xe8\\x88\\xa5\\x85\\xe4\\x15\\nMC\\xeaO...   \n",
       "3  20150703   1388133  b'\\xd0_\\x8eby\\xe8\\x88\\xa5\\x85\\xe4\\x15\\nMC\\xeaO...   \n",
       "4  20150703    365787  b\"\\x04?}pe$m\\x7f\\x85\\xa0y\\x81'e5\\xca\\xbb\\xf9\\x...   \n",
       "\n",
       "  TrackSourceTypeDef TrackDeviceTypeDef PayProfileTypeDef  SalesOrderSlaveId  \\\n",
       "0                Web             Mobile       SevenEleven            4457777   \n",
       "1                Web             Mobile       SevenEleven            4457778   \n",
       "2                Web             Mobile       SevenEleven            4457779   \n",
       "3                Web             Mobile       SevenEleven            4457780   \n",
       "4                Web             Mobile       SevenEleven            4457791   \n",
       "\n",
       "   SalePageId  IsMajor  IsGift   ...     SalesOrderReceiverId  City  District  \\\n",
       "0     1242871     True   False   ...                  1480890   嘉義縣       水上鄉   \n",
       "1     1242880     True   False   ...                  1480890   嘉義縣       水上鄉   \n",
       "2     1242880     True   False   ...                  1480890   嘉義縣       水上鄉   \n",
       "3     1175574     True   False   ...                  1480890   嘉義縣       水上鄉   \n",
       "4     1194488     True   False   ...                  1480896   桃園市       中壢區   \n",
       "\n",
       "   ZipCode  StoreName  StoreId  DeliverTypeDef StatusDef  ReturnGoodsDateId  \\\n",
       "0    608.0       中庄門市   910828     SevenEleven    Finish                NaN   \n",
       "1    608.0       中庄門市   910828     SevenEleven    Finish                NaN   \n",
       "2    608.0       中庄門市   910828     SevenEleven    Finish                NaN   \n",
       "3    608.0       中庄門市   910828     SevenEleven    Finish                NaN   \n",
       "4    320.0       復華門市   114071     SevenEleven    Finish                NaN   \n",
       "\n",
       "  CauseDef  \n",
       "0      NaN  \n",
       "1      NaN  \n",
       "2      NaN  \n",
       "3      NaN  \n",
       "4      NaN  \n",
       "\n",
       "[5 rows x 28 columns]"
      ]
     },
     "execution_count": 3,
     "metadata": {},
     "output_type": "execute_result"
    }
   ],
   "source": [
    "df.head()"
   ]
  },
  {
   "cell_type": "code",
   "execution_count": 4,
   "metadata": {},
   "outputs": [
    {
     "data": {
      "text/html": [
       "<div>\n",
       "<style scoped>\n",
       "    .dataframe tbody tr th:only-of-type {\n",
       "        vertical-align: middle;\n",
       "    }\n",
       "\n",
       "    .dataframe tbody tr th {\n",
       "        vertical-align: top;\n",
       "    }\n",
       "\n",
       "    .dataframe thead th {\n",
       "        text-align: right;\n",
       "    }\n",
       "</style>\n",
       "<table border=\"1\" class=\"dataframe\">\n",
       "  <thead>\n",
       "    <tr style=\"text-align: right;\">\n",
       "      <th></th>\n",
       "      <th>new_DateId</th>\n",
       "      <th>Quantity</th>\n",
       "    </tr>\n",
       "  </thead>\n",
       "  <tbody>\n",
       "    <tr>\n",
       "      <th>0</th>\n",
       "      <td>2015-05-06</td>\n",
       "      <td>26</td>\n",
       "    </tr>\n",
       "    <tr>\n",
       "      <th>1</th>\n",
       "      <td>2015-05-07</td>\n",
       "      <td>38</td>\n",
       "    </tr>\n",
       "    <tr>\n",
       "      <th>2</th>\n",
       "      <td>2015-05-08</td>\n",
       "      <td>61</td>\n",
       "    </tr>\n",
       "    <tr>\n",
       "      <th>3</th>\n",
       "      <td>2015-05-09</td>\n",
       "      <td>87</td>\n",
       "    </tr>\n",
       "    <tr>\n",
       "      <th>4</th>\n",
       "      <td>2015-05-10</td>\n",
       "      <td>103</td>\n",
       "    </tr>\n",
       "  </tbody>\n",
       "</table>\n",
       "</div>"
      ],
      "text/plain": [
       "  new_DateId  Quantity\n",
       "0 2015-05-06        26\n",
       "1 2015-05-07        38\n",
       "2 2015-05-08        61\n",
       "3 2015-05-09        87\n",
       "4 2015-05-10       103"
      ]
     },
     "execution_count": 4,
     "metadata": {},
     "output_type": "execute_result"
    }
   ],
   "source": [
    "df['new_DateId'] = pd.to_datetime(df['DateId'].astype(str), format='%Y%m%d')\n",
    "data = df.groupby(by='new_DateId')['Quantity'].sum().to_frame()\n",
    "data.reset_index(level=0, inplace=True)\n",
    "data.head(5)"
   ]
  },
  {
   "cell_type": "code",
   "execution_count": 5,
   "metadata": {},
   "outputs": [
    {
     "data": {
      "text/plain": [
       "[<matplotlib.lines.Line2D at 0x5e26cdd8>]"
      ]
     },
     "execution_count": 5,
     "metadata": {},
     "output_type": "execute_result"
    },
    {
     "data": {
      "image/png": "[encoded data removed]",
      "text/plain": [
       "<Figure size 432x288 with 1 Axes>"
      ]
     },
     "metadata": {},
     "output_type": "display_data"
    }
   ],
   "source": [
    "fig, ax = plt.subplots()\n",
    "ax.plot(data['new_DateId'], data['Quantity'])"
   ]
  },
  {
   "cell_type": "markdown",
   "metadata": {},
   "source": [
    "## 依照星期幾分類資料並畫圖\n",
    "1. import datetime() 模塊把日期轉成 星期幾\n",
    "2. 使用 datetime() 模塊的 weekday() 方法把所有的日期 (new_DateId) 轉成星期幾，並存成新的一個 column (weekday)\n",
    "3. 用weekday與Quantity作圖"
   ]
  },
  {
   "cell_type": "code",
   "execution_count": 6,
   "metadata": {},
   "outputs": [
    {
     "data": {
      "text/html": [
       "<div>\n",
       "<style scoped>\n",
       "    .dataframe tbody tr th:only-of-type {\n",
       "        vertical-align: middle;\n",
       "    }\n",
       "\n",
       "    .dataframe tbody tr th {\n",
       "        vertical-align: top;\n",
       "    }\n",
       "\n",
       "    .dataframe thead th {\n",
       "        text-align: right;\n",
       "    }\n",
       "</style>\n",
       "<table border=\"1\" class=\"dataframe\">\n",
       "  <thead>\n",
       "    <tr style=\"text-align: right;\">\n",
       "      <th></th>\n",
       "      <th>new_DateId</th>\n",
       "      <th>Quantity</th>\n",
       "      <th>weekday</th>\n",
       "    </tr>\n",
       "  </thead>\n",
       "  <tbody>\n",
       "    <tr>\n",
       "      <th>0</th>\n",
       "      <td>2015-05-06</td>\n",
       "      <td>26</td>\n",
       "      <td>2</td>\n",
       "    </tr>\n",
       "    <tr>\n",
       "      <th>1</th>\n",
       "      <td>2015-05-07</td>\n",
       "      <td>38</td>\n",
       "      <td>3</td>\n",
       "    </tr>\n",
       "    <tr>\n",
       "      <th>2</th>\n",
       "      <td>2015-05-08</td>\n",
       "      <td>61</td>\n",
       "      <td>4</td>\n",
       "    </tr>\n",
       "    <tr>\n",
       "      <th>3</th>\n",
       "      <td>2015-05-09</td>\n",
       "      <td>87</td>\n",
       "      <td>5</td>\n",
       "    </tr>\n",
       "    <tr>\n",
       "      <th>4</th>\n",
       "      <td>2015-05-10</td>\n",
       "      <td>103</td>\n",
       "      <td>6</td>\n",
       "    </tr>\n",
       "  </tbody>\n",
       "</table>\n",
       "</div>"
      ],
      "text/plain": [
       "  new_DateId  Quantity  weekday\n",
       "0 2015-05-06        26        2\n",
       "1 2015-05-07        38        3\n",
       "2 2015-05-08        61        4\n",
       "3 2015-05-09        87        5\n",
       "4 2015-05-10       103        6"
      ]
     },
     "execution_count": 6,
     "metadata": {},
     "output_type": "execute_result"
    }
   ],
   "source": [
    "import datetime\n",
    "data['weekday'] = data['new_DateId'].apply(lambda x: x.weekday())\n",
    "data.head()"
   ]
  },
  {
   "cell_type": "code",
   "execution_count": 7,
   "metadata": {},
   "outputs": [
    {
     "data": {
      "text/html": [
       "<div>\n",
       "<style scoped>\n",
       "    .dataframe tbody tr th:only-of-type {\n",
       "        vertical-align: middle;\n",
       "    }\n",
       "\n",
       "    .dataframe tbody tr th {\n",
       "        vertical-align: top;\n",
       "    }\n",
       "\n",
       "    .dataframe thead th {\n",
       "        text-align: right;\n",
       "    }\n",
       "</style>\n",
       "<table border=\"1\" class=\"dataframe\">\n",
       "  <thead>\n",
       "    <tr style=\"text-align: right;\">\n",
       "      <th></th>\n",
       "      <th>weekday</th>\n",
       "      <th>Quantity</th>\n",
       "    </tr>\n",
       "  </thead>\n",
       "  <tbody>\n",
       "    <tr>\n",
       "      <th>0</th>\n",
       "      <td>0</td>\n",
       "      <td>750079</td>\n",
       "    </tr>\n",
       "    <tr>\n",
       "      <th>1</th>\n",
       "      <td>1</td>\n",
       "      <td>827454</td>\n",
       "    </tr>\n",
       "    <tr>\n",
       "      <th>2</th>\n",
       "      <td>2</td>\n",
       "      <td>836489</td>\n",
       "    </tr>\n",
       "    <tr>\n",
       "      <th>3</th>\n",
       "      <td>3</td>\n",
       "      <td>773765</td>\n",
       "    </tr>\n",
       "    <tr>\n",
       "      <th>4</th>\n",
       "      <td>4</td>\n",
       "      <td>743191</td>\n",
       "    </tr>\n",
       "    <tr>\n",
       "      <th>5</th>\n",
       "      <td>5</td>\n",
       "      <td>817931</td>\n",
       "    </tr>\n",
       "    <tr>\n",
       "      <th>6</th>\n",
       "      <td>6</td>\n",
       "      <td>859920</td>\n",
       "    </tr>\n",
       "  </tbody>\n",
       "</table>\n",
       "</div>"
      ],
      "text/plain": [
       "   weekday  Quantity\n",
       "0        0    750079\n",
       "1        1    827454\n",
       "2        2    836489\n",
       "3        3    773765\n",
       "4        4    743191\n",
       "5        5    817931\n",
       "6        6    859920"
      ]
     },
     "execution_count": 7,
     "metadata": {},
     "output_type": "execute_result"
    }
   ],
   "source": [
    "data_weekday = data.groupby(by='weekday')['Quantity'].sum().to_frame()\n",
    "data_weekday.reset_index(level=0, inplace=True)\n",
    "data_weekday"
   ]
  },
  {
   "cell_type": "code",
   "execution_count": 8,
   "metadata": {},
   "outputs": [
    {
     "data": {
      "text/plain": [
       "<BarContainer object of 7 artists>"
      ]
     },
     "execution_count": 8,
     "metadata": {},
     "output_type": "execute_result"
    },
    {
     "data": {
      "image/png": "[encoded data removed]",
      "text/plain": [
       "<Figure size 432x288 with 1 Axes>"
      ]
     },
     "metadata": {},
     "output_type": "display_data"
    }
   ],
   "source": [
    "fig, ax = plt.subplots()\n",
    "ax.bar(data_weekday['weekday'], data_weekday['Quantity'])"
   ]
  },
  {
   "cell_type": "code",
   "execution_count": null,
   "metadata": {},
   "outputs": [],
   "source": []
  }
 ],
 "metadata": {
  "kernelspec": {
   "display_name": "Python 3",
   "language": "python",
   "name": "python3"
  },
  "language_info": {
   "codemirror_mode": {
    "name": "ipython",
    "version": 3
   },
   "file_extension": ".py",
   "mimetype": "text/x-python",
   "name": "python",
   "nbconvert_exporter": "python",
   "pygments_lexer": "ipython3",
   "version": "3.6.5"
  }
 },
 "nbformat": 4,
 "nbformat_minor": 2
}
