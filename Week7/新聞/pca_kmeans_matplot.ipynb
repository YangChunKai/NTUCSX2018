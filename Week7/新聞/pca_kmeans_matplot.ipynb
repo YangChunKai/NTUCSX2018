{
 "cells": [
  {
   "cell_type": "code",
   "execution_count": 1,
   "metadata": {},
   "outputs": [],
   "source": [
    "import numpy as np\n",
    "from sklearn.cluster import KMeans\n",
    "import matplotlib.pyplot as plt\n",
    "import seaborn as sns\n",
    "import jieba\n",
    "import pandas as pd\n",
    "from string import digits\n",
    "from sklearn import feature_extraction\n",
    "from sklearn.feature_extraction.text import TfidfVectorizer\n",
    "from sklearn.feature_extraction.text import CountVectorizer\n",
    "from sklearn.preprocessing import StandardScaler\n",
    "from sklearn.decomposition import PCA as sklearnPCA\n",
    "%matplotlib inline "
   ]
  },
  {
   "cell_type": "code",
   "execution_count": 2,
   "metadata": {},
   "outputs": [],
   "source": [
    "import glob\n",
    "def textfile(d):\n",
    "    files = glob.glob(d)\n",
    "    return files\n",
    "textfile1=textfile(\"./大同/*.txt\")\n",
    "textfile2=textfile(\"./台苯/*.txt\")\n",
    "textfile3=textfile(\"./台紙/*.txt\")\n",
    "textfile4=textfile(\"./智冠/*.txt\")\n",
    "textfile5=textfile(\"./榮剛/*.txt\")"
   ]
  },
  {
   "cell_type": "code",
   "execution_count": 3,
   "metadata": {},
   "outputs": [
    {
     "name": "stderr",
     "output_type": "stream",
     "text": [
      "Building prefix dict from the default dictionary ...\n",
      "Loading model from cache C:\\Users\\USER\\AppData\\Local\\Temp\\jieba.cache\n",
      "Loading model cost 2.584 seconds.\n",
      "Prefix dict has been built succesfully.\n"
     ]
    }
   ],
   "source": [
    "dictlist = ['貿易','金融','融資','不利','材料','未來','來源','獲利','資源','投資','台灣','通路','網路','行銷','行動','執行','行為','獲利','毛利','淨利','不確定','不高','零組件']\n",
    "d = open('dict.txt','w+',encoding='utf8')\n",
    "for i in dictlist:\n",
    "    d.write(i+'\\n')\n",
    "d.close()\n",
    "jieba.load_userdict('dict.txt')"
   ]
  },
  {
   "cell_type": "code",
   "execution_count": 4,
   "metadata": {},
   "outputs": [],
   "source": [
    "stopwords =[]\n",
    "puncs = '！？｡/＂＃＄$％＆＇()（）( , )＊＋，_－／：；＜＝＞＠［＼］＾＿｀｛｜｝～｟｠｢｣､、〃》.%「」『』【】 〔〕〖〗〘〙〚〛-〜,〝〞〟〰〾〿–—‘’‛“”„‟…‧﹏.。'"
   ]
  },
  {
   "cell_type": "code",
   "execution_count": 5,
   "metadata": {},
   "outputs": [],
   "source": [
    "# Take each line in target_txt as an unique document\n",
    "# Cut each line for trarget_txt, and collect it in corpus.\n",
    "def wordlist(textfile):\n",
    "    corpus = []\n",
    "    jieba.load_userdict('dict.txt')\n",
    "    for t in textfile:\n",
    "        f = open(t,'r', encoding =\"utf-8\")\n",
    "        r = f.read()\n",
    "        remove_digits = str.maketrans('', '', digits)\n",
    "        r = r.translate(remove_digits)\n",
    "        r_list = jieba.cut(r, cut_all=False)\n",
    "        r_list = list(r_list)\n",
    "        for i in range(5):\n",
    "            for w in r_list:\n",
    "                if (w in stopwords) or (w in puncs) or (w < '\\u4e00') or (w > '\\u9fff'):\n",
    "                    r_list.remove(w)        \n",
    "        st=\" \".join(r_list)\n",
    "    #     corpus[st]\n",
    "        corpus.append(st)\n",
    "    return corpus"
   ]
  },
  {
   "cell_type": "code",
   "execution_count": 6,
   "metadata": {},
   "outputs": [],
   "source": [
    "w1=wordlist(textfile1)\n",
    "w2=wordlist(textfile2)\n",
    "w3=wordlist(textfile3)\n",
    "w4=wordlist(textfile4)\n",
    "w5=wordlist(textfile5)"
   ]
  },
  {
   "cell_type": "code",
   "execution_count": 7,
   "metadata": {},
   "outputs": [],
   "source": [
    "w=w1+w2+w3+w4+w5\n",
    "vectorizer = TfidfVectorizer()\n",
    "tfidf = vectorizer.fit_transform(w)\n",
    "words = vectorizer.get_feature_names()\n",
    "X = tfidf.toarray()\n",
    "X_std = StandardScaler().fit_transform(X)\n",
    "sklearn_pca = sklearnPCA(n_components = 2)\n",
    "Y_sklearn = sklearn_pca.fit_transform(X_std)"
   ]
  },
  {
   "cell_type": "code",
   "execution_count": 8,
   "metadata": {},
   "outputs": [
    {
     "data": {
      "text/plain": [
       "array([[-3.64642929e+00, -7.70786965e-01],\n",
       "       [-3.53389230e+00, -4.59080300e-01],\n",
       "       [-2.22038007e+00, -1.58430960e-01],\n",
       "       [-3.40024369e+00,  1.20011820e+00],\n",
       "       [-2.48532598e+00, -3.54922632e-01],\n",
       "       [-3.78416552e+00, -5.74543008e-02],\n",
       "       [-2.29043287e+00,  6.96450778e-01],\n",
       "       [-3.10676646e+00, -8.35024515e-02],\n",
       "       [-3.22738706e+00,  3.99625060e+00],\n",
       "       [-2.99275986e+00,  5.39148976e+00],\n",
       "       [-3.66087908e+00, -9.18403545e-01],\n",
       "       [-4.48102539e+00, -1.20137623e+00],\n",
       "       [-4.66985874e+00, -5.36030752e+01],\n",
       "       [-3.78946754e+00, -8.28346378e-01],\n",
       "       [-3.29243420e+00, -1.50432851e+00],\n",
       "       [-5.08265900e+00, -4.91587832e+01],\n",
       "       [-3.45894448e+00, -2.96753878e-01],\n",
       "       [-3.62623673e+00, -4.63943335e+00],\n",
       "       [-3.85288904e+00, -5.48582267e-01],\n",
       "       [-3.52439924e+00, -8.19999410e-01],\n",
       "       [ 4.81234060e-01,  1.62903604e+01],\n",
       "       [-2.32330190e+00,  4.30703079e+00],\n",
       "       [ 1.77289269e+00,  7.69155354e+01],\n",
       "       [-2.39023074e+00,  1.90257506e+00],\n",
       "       [-3.11558050e+00,  2.05280884e+00],\n",
       "       [-2.78842852e+00,  3.12254273e+00],\n",
       "       [-2.16770798e+00,  2.23089610e+00],\n",
       "       [ 1.52216494e+02, -4.04246530e+00],\n",
       "       [-3.40622665e+00,  3.20755976e-01],\n",
       "       [-3.51438752e+00,  1.11032138e+00],\n",
       "       [-3.29613326e+00,  1.41320378e-02],\n",
       "       [-3.38744066e+00,  9.81523616e-02],\n",
       "       [-3.29090427e+00,  1.47985544e+00],\n",
       "       [-3.64712399e+00, -3.15491809e-01],\n",
       "       [-3.14157662e+00, -4.71023890e-01],\n",
       "       [-3.14575614e+00, -1.04636713e-02],\n",
       "       [-3.07278290e+00, -4.77682657e-01],\n",
       "       [-3.27297644e+00, -6.32075997e-02],\n",
       "       [-3.53423916e+00,  2.00608359e-01],\n",
       "       [-3.07278290e+00, -4.77682657e-01],\n",
       "       [-3.16076653e+00, -2.15912056e-01],\n",
       "       [-3.09238106e+00, -2.65367144e-01],\n",
       "       [-3.27324742e+00,  2.56232065e-01],\n",
       "       [-3.26381999e+00,  8.59215261e-02],\n",
       "       [-3.44169538e+00, -3.67583726e-01],\n",
       "       [-3.00374798e+00,  9.98902648e-02],\n",
       "       [-1.77478997e+00, -3.31934640e-01],\n",
       "       [-3.42721672e+00, -2.57822825e-01],\n",
       "       [-3.47060193e+00,  5.85314971e-01],\n",
       "       [-3.86819666e+00,  3.42654503e-01]])"
      ]
     },
     "execution_count": 8,
     "metadata": {},
     "output_type": "execute_result"
    }
   ],
   "source": [
    "Y_sklearn"
   ]
  },
  {
   "cell_type": "code",
   "execution_count": 9,
   "metadata": {},
   "outputs": [
    {
     "data": {
      "text/plain": [
       "array([1, 1, 1, 1, 1, 1, 1, 1, 1, 1, 1, 1, 1, 1, 1, 1, 1, 1, 1, 1, 1, 1,\n",
       "       1, 1, 1, 1, 1, 0, 1, 1, 1, 1, 1, 1, 1, 1, 1, 1, 1, 1, 1, 1, 1, 1,\n",
       "       1, 1, 1, 1, 1, 1])"
      ]
     },
     "execution_count": 9,
     "metadata": {},
     "output_type": "execute_result"
    }
   ],
   "source": [
    "kmeans = KMeans(n_clusters = 2)\n",
    "X_clustered = kmeans.fit_predict(Y_sklearn)\n",
    "X_clustered"
   ]
  },
  {
   "cell_type": "code",
   "execution_count": 10,
   "metadata": {},
   "outputs": [],
   "source": [
    "kmeans1position=[i for i,x in enumerate(X_clustered) if x == 0]\n",
    "kmeans2position=[i for i,x in enumerate(X_clustered) if x == 1]\n",
    "kmeans1=[]\n",
    "kmeans2=[]\n",
    "for i in kmeans1position:\n",
    "    kmeans1.append(Y_sklearn[i].tolist())\n",
    "for i in kmeans2position:\n",
    "    kmeans2.append(Y_sklearn[i].tolist())\n",
    "kmeans1=np.asarray(kmeans1)\n",
    "kmeans2=np.asarray(kmeans2)"
   ]
  },
  {
   "cell_type": "code",
   "execution_count": 11,
   "metadata": {},
   "outputs": [],
   "source": [
    "import plotly\n",
    "import plotly.plotly as py\n",
    "import plotly.graph_objs as go\n",
    "plotly.tools.set_credentials_file(username='a365winds', api_key='PoqVdD898NX7JMINbICo')"
   ]
  },
  {
   "cell_type": "code",
   "execution_count": 12,
   "metadata": {},
   "outputs": [
    {
     "name": "stdout",
     "output_type": "stream",
     "text": [
      "High five! You successfully sent some data to your account on plotly. View your plot in your browser at https://plot.ly/~a365winds/0 or inside your plot.ly account where it is named 'PCA Scatter Chart'\n"
     ]
    },
    {
     "data": {
      "text/html": [
       "<iframe id=\"igraph\" scrolling=\"no\" style=\"border:none;\" seamless=\"seamless\" src=\"https://plot.ly/~a365winds/0.embed\" height=\"525px\" width=\"100%\"></iframe>"
      ],
      "text/plain": [
       "<plotly.tools.PlotlyDisplay object>"
      ]
     },
     "execution_count": 12,
     "metadata": {},
     "output_type": "execute_result"
    }
   ],
   "source": [
    "pca_data1 = go.Scatter(\n",
    "        x = Y_sklearn[:len(w1),0],\n",
    "        y = Y_sklearn[:len(w1),1],\n",
    "        name = '大同',\n",
    "        mode = \"markers\",\n",
    "        hoverinfo = 'text',\n",
    "        text = textfile1\n",
    "    )\n",
    "\n",
    "pca_data2 = go.Scatter(\n",
    "        x = Y_sklearn[len(w1):(len(w1)+len(w2)),0],\n",
    "        y = Y_sklearn[len(w1):(len(w1)+len(w2)),1],\n",
    "        name = '台苯',\n",
    "        mode = \"markers\",\n",
    "        hoverinfo = 'text',\n",
    "        text = textfile2\n",
    "    )\n",
    "pca_data3 = go.Scatter(\n",
    "        x = Y_sklearn[(len(w1)+len(w2)):(len(w1)+len(w2)+len(w3)),0],\n",
    "        y = Y_sklearn[(len(w1)+len(w2)):(len(w1)+len(w2)+len(w3)),1],\n",
    "        name = '台紙',\n",
    "        mode = \"markers\",\n",
    "        hoverinfo = 'text',\n",
    "        text = textfile3\n",
    "    )\n",
    "pca_data4 = go.Scatter(\n",
    "        x = Y_sklearn[(len(w1)+len(w2)+len(w3)):(len(w1)+len(w2)+len(w3)+len(w4)),0],\n",
    "        y = Y_sklearn[(len(w1)+len(w2)+len(w3)):(len(w1)+len(w2)+len(w3)+len(w4)),1],\n",
    "        name = '智冠',\n",
    "        mode = \"markers\",\n",
    "        hoverinfo = 'text',\n",
    "        text = textfile4\n",
    "    )\n",
    "pca_data5 = go.Scatter(\n",
    "        x = Y_sklearn[(len(w1)+len(w2)+len(w3)+len(w4)):,0],\n",
    "        y = Y_sklearn[(len(w1)+len(w2)+len(w3)+len(w4)):,1],\n",
    "        name = '榮剛',\n",
    "        mode = \"markers\",\n",
    "        hoverinfo = 'text',\n",
    "        text = textfile5\n",
    "    )\n",
    "data = [pca_data1,pca_data2,pca_data3,pca_data4,pca_data5]\n",
    "py.iplot(data, filename = 'PCA Scatter Chart')"
   ]
  },
  {
   "cell_type": "code",
   "execution_count": 13,
   "metadata": {
    "scrolled": false
   },
   "outputs": [
    {
     "data": {
      "text/html": [
       "<iframe id=\"igraph\" scrolling=\"no\" style=\"border:none;\" seamless=\"seamless\" src=\"https://plot.ly/~a365winds/2.embed\" height=\"525px\" width=\"100%\"></iframe>"
      ],
      "text/plain": [
       "<plotly.tools.PlotlyDisplay object>"
      ]
     },
     "execution_count": 13,
     "metadata": {},
     "output_type": "execute_result"
    }
   ],
   "source": [
    "kmeans_data1 = go.Scatter(\n",
    "        x = kmeans1[:,0],\n",
    "        y = kmeans1[:,1],\n",
    "        name = 'kmeans_data1',\n",
    "        mode = \"markers\",\n",
    "        hoverinfo = 'text',\n",
    "        text = textfile1\n",
    "    )\n",
    "\n",
    "kmeans_data2 = go.Scatter(\n",
    "        x = kmeans2[:,0],\n",
    "        y = kmeans2[:,1],\n",
    "        name = 'kmeans_data2',\n",
    "        mode = \"markers\",\n",
    "        hoverinfo = 'text',\n",
    "        text = textfile2\n",
    "    )\n",
    "\n",
    "data = [kmeans_data1,kmeans_data2]\n",
    "py.iplot(data, filename = 'kmeans Scatter Chart')"
   ]
  }
 ],
 "metadata": {
  "kernelspec": {
   "display_name": "Python 3",
   "language": "python",
   "name": "python3"
  },
  "language_info": {
   "codemirror_mode": {
    "name": "ipython",
    "version": 3
   },
   "file_extension": ".py",
   "mimetype": "text/x-python",
   "name": "python",
   "nbconvert_exporter": "python",
   "pygments_lexer": "ipython3",
   "version": "3.6.4"
  }
 },
 "nbformat": 4,
 "nbformat_minor": 2
}
