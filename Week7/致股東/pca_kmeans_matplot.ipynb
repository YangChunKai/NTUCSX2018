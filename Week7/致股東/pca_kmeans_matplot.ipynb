{
 "cells": [
  {
   "cell_type": "code",
   "execution_count": 1,
   "metadata": {},
   "outputs": [],
   "source": [
    "import numpy as np\n",
    "from sklearn.cluster import KMeans\n",
    "import matplotlib.pyplot as plt\n",
    "import seaborn as sns\n",
    "import jieba\n",
    "import pandas as pd\n",
    "from string import digits\n",
    "from sklearn import feature_extraction\n",
    "from sklearn.feature_extraction.text import TfidfVectorizer\n",
    "from sklearn.feature_extraction.text import CountVectorizer\n",
    "from sklearn.preprocessing import StandardScaler\n",
    "from sklearn.decomposition import PCA as sklearnPCA\n",
    "%matplotlib inline "
   ]
  },
  {
   "cell_type": "code",
   "execution_count": 2,
   "metadata": {},
   "outputs": [],
   "source": [
    "import glob\n",
    "def textfile(d):\n",
    "    files = glob.glob(d)\n",
    "    return files\n",
    "textfile1=textfile(\"./letterto shareholders1/*.txt\")\n",
    "textfile2=textfile(\"./letterto shareholders2/*.txt\")"
   ]
  },
  {
   "cell_type": "code",
   "execution_count": 3,
   "metadata": {},
   "outputs": [
    {
     "name": "stderr",
     "output_type": "stream",
     "text": [
      "Building prefix dict from the default dictionary ...\n",
      "Loading model from cache /var/folders/zz/bqrx4v8s4cq4vszqlfzpp6_40000gn/T/jieba.cache\n",
      "Loading model cost 0.649 seconds.\n",
      "Prefix dict has been built succesfully.\n"
     ]
    }
   ],
   "source": [
    "jieba.load_userdict('worddict.txt')"
   ]
  },
  {
   "cell_type": "code",
   "execution_count": 4,
   "metadata": {},
   "outputs": [],
   "source": [
    "stop = open('stopwordsforkmeans.txt','r',encoding='UTF-8-sig')\n",
    "stopwords = stop.readlines()\n",
    "stop.close()\n",
    "stopwords = [x.strip() for x in stopwords]\n",
    "puncs = '！？｡＂＃＄％＆＇（）＊＋，－／：；＜＝＞＠［＼］＾＿｀｛｜｝～｟｠｢｣､、〃》「」『』【】〔〕〖〗〘〙〚〛〜〝〞〟〰〾〿–—‘’‛“”„‟…‧﹏.。'"
   ]
  },
  {
   "cell_type": "code",
   "execution_count": 5,
   "metadata": {},
   "outputs": [],
   "source": [
    "# Take each line in target_txt as an unique document\n",
    "# Cut each line for trarget_txt, and collect it in corpus.\n",
    "def wordlist(textfile):\n",
    "    corpus = []\n",
    "    jieba.load_userdict('dict.txt')\n",
    "    for t in textfile:\n",
    "        f = open(t,'r', encoding =\"utf-8\")\n",
    "        r = f.read()\n",
    "        remove_digits = str.maketrans('', '', digits)\n",
    "        r = r.translate(remove_digits)\n",
    "        r_list = jieba.cut(r, cut_all=False)\n",
    "        r_list = list(r_list)\n",
    "        for i in range(5):\n",
    "            for w in r_list:\n",
    "                if (w in stopwords) or (w in puncs) or (w < '\\u4e00') or (w > '\\u9fff'):\n",
    "                    r_list.remove(w)        \n",
    "        st=\" \".join(r_list)\n",
    "    #     corpus[st]\n",
    "        corpus.append(st)\n",
    "    return corpus"
   ]
  },
  {
   "cell_type": "code",
   "execution_count": 6,
   "metadata": {},
   "outputs": [],
   "source": [
    "w1=wordlist(textfile1)\n",
    "w2=wordlist(textfile2)"
   ]
  },
  {
   "cell_type": "code",
   "execution_count": 7,
   "metadata": {},
   "outputs": [],
   "source": [
    "w=w1+w2\n",
    "vectorizer = TfidfVectorizer()\n",
    "tfidf = vectorizer.fit_transform(w)\n",
    "words = vectorizer.get_feature_names()\n",
    "X = tfidf.toarray()\n",
    "X_std = StandardScaler().fit_transform(X)\n",
    "sklearn_pca = sklearnPCA(n_components = 2)\n",
    "Y_sklearn = sklearn_pca.fit_transform(X_std)"
   ]
  },
  {
   "cell_type": "code",
   "execution_count": 8,
   "metadata": {},
   "outputs": [
    {
     "data": {
      "text/plain": [
       "array([[ -4.75071716,  -7.71801479],\n",
       "       [ -5.01213486, -10.2982842 ],\n",
       "       [ -5.28198628,  -4.01825378],\n",
       "       [-12.06529014,  38.55925275],\n",
       "       [ 57.33395028,   8.50186905],\n",
       "       [ -5.15259942,  -3.89605321],\n",
       "       [ -5.55670007,  -4.02543838],\n",
       "       [-14.88980608,  49.60168832],\n",
       "       [-14.64710872,  47.19532551],\n",
       "       [ 58.64994833,   7.04631318],\n",
       "       [ 72.51601791,  11.58535628],\n",
       "       [ -4.45605324,  -6.91025938],\n",
       "       [ -5.55372882, -12.94389964],\n",
       "       [ -4.06560563,  -8.82368349],\n",
       "       [ -3.41456532,  -6.20479006],\n",
       "       [ -4.50725088,  -8.1485226 ],\n",
       "       [ -4.37090303,  -9.6363115 ],\n",
       "       [ -3.34821878,  -8.4518002 ],\n",
       "       [ -4.82001829,  -8.55351171],\n",
       "       [ 49.56961082,   6.36031022],\n",
       "       [ 44.79605278,   4.49461226],\n",
       "       [ -5.3969054 ,  -3.83612575],\n",
       "       [ -4.39702796,  -4.0387232 ],\n",
       "       [-15.71435976,  53.74332512],\n",
       "       [-16.44035767,  56.98314725],\n",
       "       [ -4.32379012, -11.40701488],\n",
       "       [ -4.63487541, -10.7200968 ],\n",
       "       [ -5.81380898, -14.69331347],\n",
       "       [ -8.58898791, -16.45136377],\n",
       "       [ -3.14833949,  -6.73278371],\n",
       "       [ -3.02795632,  -6.08325467],\n",
       "       [ -8.71731211,   3.20935615],\n",
       "       [ -6.93509891,   1.27638469],\n",
       "       [ -5.1033589 ,  -7.17206997],\n",
       "       [ -4.58903446,  -7.72044857],\n",
       "       [ -4.30387808,  -6.68811078],\n",
       "       [ -5.41951658, -11.52786202],\n",
       "       [ -2.98554774,  -5.55879863],\n",
       "       [ -6.94174986,  -0.29156068],\n",
       "       [ -4.19705304,  -6.56182182],\n",
       "       [ -3.95463356,  -4.28001221],\n",
       "       [ -2.87964381,  -6.33015813],\n",
       "       [ -2.74208794,  -6.75401616],\n",
       "       [-10.25791906,   5.30608375],\n",
       "       [ -8.29010812,   0.68582492],\n",
       "       [ -5.99916932, -10.74433038],\n",
       "       [ -5.21518314,  -9.39538469],\n",
       "       [ -8.16631763, -14.09389339],\n",
       "       [ -7.71640997, -14.9188983 ],\n",
       "       [ -5.07246214,  -8.91998455]])"
      ]
     },
     "execution_count": 8,
     "metadata": {},
     "output_type": "execute_result"
    }
   ],
   "source": [
    "Y_sklearn"
   ]
  },
  {
   "cell_type": "code",
   "execution_count": 9,
   "metadata": {},
   "outputs": [
    {
     "data": {
      "text/plain": [
       "25"
      ]
     },
     "execution_count": 9,
     "metadata": {},
     "output_type": "execute_result"
    }
   ],
   "source": [
    "len(w1)"
   ]
  },
  {
   "cell_type": "code",
   "execution_count": 10,
   "metadata": {},
   "outputs": [
    {
     "data": {
      "text/plain": [
       "25"
      ]
     },
     "execution_count": 10,
     "metadata": {},
     "output_type": "execute_result"
    }
   ],
   "source": [
    "len(w2)"
   ]
  },
  {
   "cell_type": "code",
   "execution_count": 11,
   "metadata": {},
   "outputs": [
    {
     "data": {
      "image/png": "[encoded data removed]",
      "text/plain": [
       "<Figure size 432x288 with 1 Axes>"
      ]
     },
     "metadata": {},
     "output_type": "display_data"
    }
   ],
   "source": [
    "fig = plt.figure()\n",
    "ax1 = fig.add_subplot(111)\n",
    "ax1.scatter(x = Y_sklearn[:len(w1),0], y = Y_sklearn[:len(w1),1], s=10, c='b', label='w1')\n",
    "ax1.scatter(x = Y_sklearn[len(w1):,0], y = Y_sklearn[len(w1):,1], s=10, c='r', label='w2')\n",
    "plt.legend(loc='best');\n",
    "plt.show()"
   ]
  },
  {
   "cell_type": "code",
   "execution_count": 12,
   "metadata": {},
   "outputs": [
    {
     "data": {
      "text/plain": [
       "array([1, 1, 1, 1, 0, 1, 1, 1, 1, 0, 0, 1, 1, 1, 1, 1, 1, 1, 1, 0, 0, 1,\n",
       "       1, 1, 1, 1, 1, 1, 1, 1, 1, 1, 1, 1, 1, 1, 1, 1, 1, 1, 1, 1, 1, 1,\n",
       "       1, 1, 1, 1, 1, 1], dtype=int32)"
      ]
     },
     "execution_count": 12,
     "metadata": {},
     "output_type": "execute_result"
    }
   ],
   "source": [
    "kmeans = KMeans(n_clusters = 2)\n",
    "X_clustered = kmeans.fit_predict(Y_sklearn)\n",
    "X_clustered"
   ]
  },
  {
   "cell_type": "code",
   "execution_count": 13,
   "metadata": {},
   "outputs": [
    {
     "name": "stderr",
     "output_type": "stream",
     "text": [
      "No handles with labels found to put in legend.\n"
     ]
    },
    {
     "data": {
      "image/png": "[encoded data removed]",
      "text/plain": [
       "<Figure size 432x288 with 1 Axes>"
      ]
     },
     "metadata": {},
     "output_type": "display_data"
    }
   ],
   "source": [
    "kmeans1position=[i for i,x in enumerate(X_clustered) if x == 0]\n",
    "kmeans2position=[i for i,x in enumerate(X_clustered) if x == 1]\n",
    "kmeans1=[]\n",
    "kmeans2=[]\n",
    "for i in kmeans1position:\n",
    "    kmeans1.append(Y_sklearn[i].tolist())\n",
    "for i in kmeans2position:\n",
    "    kmeans2.append(Y_sklearn[i].tolist())\n",
    "kmeans1=np.asarray(kmeans1)\n",
    "kmeans2=np.asarray(kmeans2)\n",
    "fig = plt.figure()\n",
    "ax1 = fig.add_subplot(111)\n",
    "ax1.scatter(x = kmeans1[:,0], y = kmeans1[:,1], s=10, c='black')\n",
    "ax1.scatter(x = kmeans2[:,0], y = kmeans2[:,1], s=10, c='green')\n",
    "plt.legend(loc='best');\n",
    "plt.show()"
   ]
  },
  {
   "cell_type": "code",
   "execution_count": 14,
   "metadata": {},
   "outputs": [],
   "source": [
    "import plotly\n",
    "import plotly.plotly as py\n",
    "import plotly.graph_objs as go\n",
    "plotly.tools.set_credentials_file(username='LiangPeiJu', api_key='AAINuB71QEI9chxuV016')"
   ]
  },
  {
   "cell_type": "code",
   "execution_count": 15,
   "metadata": {},
   "outputs": [
    {
     "name": "stdout",
     "output_type": "stream",
     "text": [
      "High five! You successfully sent some data to your account on plotly. View your plot in your browser at https://plot.ly/~LiangPeiJu/0 or inside your plot.ly account where it is named 'PCA Scatter Chart'\n"
     ]
    },
    {
     "data": {
      "text/html": [
       "<iframe id=\"igraph\" scrolling=\"no\" style=\"border:none;\" seamless=\"seamless\" src=\"https://plot.ly/~LiangPeiJu/0.embed\" height=\"525px\" width=\"100%\"></iframe>"
      ],
      "text/plain": [
       "<plotly.tools.PlotlyDisplay object>"
      ]
     },
     "execution_count": 15,
     "metadata": {},
     "output_type": "execute_result"
    }
   ],
   "source": [
    "pca_data1 = go.Scatter(\n",
    "        x = Y_sklearn[:len(w1),0],\n",
    "        y = Y_sklearn[:len(w1),1],\n",
    "        name = 'pca_data1',\n",
    "        mode = \"markers\",\n",
    "        hoverinfo = 'text',\n",
    "        text = textfile1\n",
    "    )\n",
    "\n",
    "pca_data2 = go.Scatter(\n",
    "        x = Y_sklearn[len(w1):,0],\n",
    "        y = Y_sklearn[len(w1):,1],\n",
    "        name = 'pca_data2',\n",
    "        mode = \"markers\",\n",
    "        hoverinfo = 'text',\n",
    "        text = textfile2\n",
    "    )\n",
    "data = [pca_data1,pca_data2]\n",
    "py.iplot(data, filename = 'PCA Scatter Chart')"
   ]
  },
  {
   "cell_type": "code",
   "execution_count": 16,
   "metadata": {},
   "outputs": [
    {
     "data": {
      "text/html": [
       "<iframe id=\"igraph\" scrolling=\"no\" style=\"border:none;\" seamless=\"seamless\" src=\"https://plot.ly/~LiangPeiJu/2.embed\" height=\"525px\" width=\"100%\"></iframe>"
      ],
      "text/plain": [
       "<plotly.tools.PlotlyDisplay object>"
      ]
     },
     "execution_count": 16,
     "metadata": {},
     "output_type": "execute_result"
    }
   ],
   "source": [
    "kmeans_data1 = go.Scatter(\n",
    "        x = kmeans1[:,0],\n",
    "        y = kmeans1[:,1],\n",
    "        name = 'kmeans_data1',\n",
    "        mode = \"markers\",\n",
    "        hoverinfo = 'text',\n",
    "        text = textfile1\n",
    "    )\n",
    "\n",
    "kmeans_data2 = go.Scatter(\n",
    "        x = kmeans2[:,0],\n",
    "        y = kmeans2[:,1],\n",
    "        name = 'kmeans_data2',\n",
    "        mode = \"markers\",\n",
    "        hoverinfo = 'text',\n",
    "        text = textfile2\n",
    "    )\n",
    "data = [kmeans_data1,kmeans_data2]\n",
    "py.iplot(data, filename = 'kmeans Scatter Chart')"
   ]
  }
 ],
 "metadata": {
  "kernelspec": {
   "display_name": "Python 3",
   "language": "python",
   "name": "python3"
  },
  "language_info": {
   "codemirror_mode": {
    "name": "ipython",
    "version": 3
   },
   "file_extension": ".py",
   "mimetype": "text/x-python",
   "name": "python",
   "nbconvert_exporter": "python",
   "pygments_lexer": "ipython3",
   "version": "3.6.5"
  }
 },
 "nbformat": 4,
 "nbformat_minor": 2
}
