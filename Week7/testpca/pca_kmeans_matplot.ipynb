{
 "cells": [
  {
   "cell_type": "code",
   "execution_count": 1,
   "metadata": {},
   "outputs": [],
   "source": [
    "import numpy as np\n",
    "from sklearn.cluster import KMeans\n",
    "import matplotlib.pyplot as plt\n",
    "import seaborn as sns\n",
    "import jieba\n",
    "import pandas as pd\n",
    "from string import digits\n",
    "from sklearn import feature_extraction\n",
    "from sklearn.feature_extraction.text import TfidfVectorizer\n",
    "from sklearn.feature_extraction.text import CountVectorizer\n",
    "from sklearn.preprocessing import StandardScaler\n",
    "from sklearn.decomposition import PCA as sklearnPCA\n",
    "%matplotlib inline "
   ]
  },
  {
   "cell_type": "code",
   "execution_count": 2,
   "metadata": {},
   "outputs": [],
   "source": [
    "import glob\n",
    "def textfile(d):\n",
    "    files = glob.glob(d)\n",
    "    return files\n",
    "textfile1=textfile(\"./test/*.txt\")\n",
    "textfile2=textfile(\"./test2/*.txt\")"
   ]
  },
  {
   "cell_type": "code",
   "execution_count": 3,
   "metadata": {},
   "outputs": [
    {
     "name": "stderr",
     "output_type": "stream",
     "text": [
      "Building prefix dict from the default dictionary ...\n",
      "Loading model from cache C:\\Users\\Ken\\AppData\\Local\\Temp\\jieba.cache\n",
      "Loading model cost 1.299 seconds.\n",
      "Prefix dict has been built succesfully.\n"
     ]
    }
   ],
   "source": [
    "dictlist = ['大同股份有限公司','公允價值','財務報表','林蔚山']\n",
    "d = open('dict.txt','w+',encoding='utf8')\n",
    "for i in dictlist:\n",
    "    d.write(i+'\\n')\n",
    "d.close()\n",
    "jieba.load_userdict('dict.txt')"
   ]
  },
  {
   "cell_type": "code",
   "execution_count": 12,
   "metadata": {},
   "outputs": [
    {
     "data": {
      "text/plain": [
       "['我',\n",
       " '對',\n",
       " '採用',\n",
       " '如下',\n",
       " '個體',\n",
       " '五年',\n",
       " '相關',\n",
       " '六年',\n",
       " '部分',\n",
       " '企業',\n",
       " '之',\n",
       " '於',\n",
       " '註',\n",
       " '係',\n",
       " '民國',\n",
       " '至',\n",
       " '千元',\n",
       " '資產',\n",
       " '三十一日',\n",
       " '期',\n",
       " '負債',\n",
       " '年',\n",
       " '價值',\n",
       " '按',\n",
       " '有',\n",
       " '年報',\n",
       " '十二月',\n",
       " '本集團',\n",
       " '期間',\n",
       " '計',\n",
       " '所',\n",
       " '集團',\n",
       " '人',\n",
       " '其',\n",
       " '合',\n",
       " '併',\n",
       " '報導',\n",
       " '等',\n",
       " '已',\n",
       " '時',\n",
       " '新',\n",
       " '明',\n",
       " '續',\n",
       " '該',\n",
       " '日',\n",
       " '外',\n",
       " '報告',\n",
       " '股',\n",
       " '財務',\n",
       " '除',\n",
       " '附',\n",
       " '附錄',\n",
       " '予',\n",
       " '者',\n",
       " '第',\n",
       " '另',\n",
       " '年度',\n",
       " '本',\n",
       " '○',\n",
       " '臺',\n",
       " '一',\n",
       " '幣',\n",
       " '後',\n",
       " '大同',\n",
       " '及',\n",
       " '與',\n",
       " '公司',\n",
       " '單位',\n",
       " '報表',\n",
       " '公',\n",
       " '司',\n",
       " '為',\n",
       " '月',\n",
       " '有限公司',\n",
       " '以',\n",
       " '或',\n",
       " '其他',\n",
       " '金額',\n",
       " '臺幣',\n",
       " '認列',\n",
       " '衡量']"
      ]
     },
     "execution_count": 12,
     "metadata": {},
     "output_type": "execute_result"
    }
   ],
   "source": [
    "stop = open('stopwords.txt','r',encoding='UTF-8-sig')\n",
    "stopwords = stop.readlines()\n",
    "stop.close()\n",
    "stopwords = [x.strip() for x in stopwords]\n",
    "stopwords"
   ]
  },
  {
   "cell_type": "code",
   "execution_count": 33,
   "metadata": {},
   "outputs": [],
   "source": [
    "puncs = '！？｡/＂＃＄$％＆＇()\\n（）( , )＊＋，_－／：；＜＝＞＠［＼］＾＿｀｛｜｝～｟｠｢｣､、〃》.%「」『』【】 〔〕〖〗〘〙〚〛-〜,〝〞〟〰〾〿–—‘’‛“”„‟…‧﹏.。'"
   ]
  },
  {
   "cell_type": "code",
   "execution_count": 37,
   "metadata": {},
   "outputs": [],
   "source": [
    "# Take each line in target_txt as an unique document\n",
    "# Cut each line for trarget_txt, and collect it in corpus.\n",
    "def wordlist(textfile):\n",
    "    corpus = []\n",
    "    jieba.load_userdict('dict.txt')\n",
    "    for t in textfile:\n",
    "        f = open(t,'r', encoding =\"utf-8\")\n",
    "        r = f.read()\n",
    "        remove_digits = str.maketrans('', '', digits)\n",
    "        r = r.translate(remove_digits)\n",
    "        r_list = jieba.cut(r, cut_all=False)\n",
    "        r_list = list(r_list)\n",
    "        for i in range(5):\n",
    "            for w in r_list:\n",
    "                if (w in stopwords) or (w in puncs) or (w < '\\u4e00') or (w > '\\u9fff'):\n",
    "                    r_list.remove(w)        \n",
    "        st=\" \".join(r_list)\n",
    "    #     corpus[st]\n",
    "        corpus.append(st)\n",
    "    return corpus"
   ]
  },
  {
   "cell_type": "code",
   "execution_count": 38,
   "metadata": {},
   "outputs": [],
   "source": [
    "w1=wordlist(textfile1)\n",
    "w2=wordlist(textfile2)"
   ]
  },
  {
   "cell_type": "code",
   "execution_count": 39,
   "metadata": {},
   "outputs": [
    {
     "data": {
      "text/plain": [
       "['事件 內容 增資案 惹議 市場 派 提告 因現 金 增資 消息 曝光 股價 重挫 蒸發 億 市值 已經 損及 股東 權益 市場 派 股東 在 台北 地檢署 告發 再 重申 董事 會 決議 是 在 額定 股本 內 原 股東 的 現金 增資 從 未 涉入 股市 股價 是否 遭人為 操縱 無 從 得知 至於 日前 針對 股票 價格 波動 過度 劇烈 情事 依規定 自日 起 降低 融資 比率 一成 提高 融券 保證 金一成 市場 派 欣同 發聲明 指出 董事 會 通過 包括 每股 面額 元 辦理 現金 增資 億股 項 決議 表面 上 完成 增資 將可 改善 結構 強化 競爭力 但 億 股現 增案 雖 表示 發行 價格 暫時 未定 市場 消息 傳出 預定 將以 元 辦理 現增 由 市價 仍 元 導致 消息 一出 隔日 起 股價 連續 重挫 最低 點來 到 元',\n",
       " '高院 判 林蔚山 需賠 億 最高院 發回 重審 投保 中心 控訴 董事 長 林蔚山 造成 損失 應予 賠償 台灣 高等法院 原判 決 林蔚山 共需 賠償 億元 但 最高 法院 廢棄 高院 的 原判 決 並發 回 重新 審理 最高法院 判決 理由 有項 尚志 資產給 通達 的 貸款 尚餘 萬未 清償 何以 持股 比例 計算 因此 所受 損害 萬 原審 並未 說明 理由 林蔚山 行為 無 造成 到 各 投資損 失達 億餘元 高院 未 調查 徒以 尚志 投資 以元 投資 通達 借貸 尚志 投資 尚志 投資 借貸 通達 的 款項 就認 定 損害 不無可議 高院 原 認定 尚志 投資 以元 投資 取得 通達 的 股份 不是 故 不 承受 該公 司損失 也 不是 受 損害 的 計算 基礎 若 果真如此 尚志 投資元 投資 通達 的 行為 是否 致 受 損害 尚非 無 疑 有關 增資 股款 溢價 發行 新股 股款 匯入 尚志 投資 原 審 逕 認 是 借 貸 違反 公司法 第條 第一 項規定 違背 的 忠 實及 注意 義務 不無認 作主 張事實 的 違法 通達 董事 會 決議 停業 如何 償 還銀行 款項 經與 銀行 溝通 及律 師建議 避免 影響 債信 由 原本 就是 連 保人 的 尚志 投資代償 原審 未加 審究 遽認 尚志 投資上 開行 是 林蔚山 指示 而 不利 的 判斷 並有 可議 高等法院 就 董事 長 因違 反證券 交易法 乙案 裁定 就 董事 長 所有 之不動產 股票 予以 扣押 經 董事 長 提起 抗告 遭 最高法院 裁定 駁回 抗告 林蔚山 董事 長 最高法院 裁定 深表 遺憾 林 董事 長 並非 不法 利益 最 終 受益人 法律 適用 違沒收 新制 規定 營運 業務 一切正常 不會 受 該案 影響',\n",
       " '公告 擬處 分轉 投資大陸 子公司 股權 事宜 預計處 分大陸 子公司 宿遷 志偉置業 損失 億元 截 提列 減損 億元 高等法院 就 董事 長 因違 反證券 交易法 乙案 宣示 刑事 判決 主文 金 上重 更 字 第號 董事 長 林蔚山 被控 挪用公款 金援 自己 私人 投資 的 通達國際 造成 大 同集團 蒙受 多 億元 損害 高等法院 更 一審 昨審結 依證券 交易法 的 特別 背信 罪 將 林蔚山 重判 科罰 金億元 另外 林 未扣 案 的 犯罪 所得 億多 萬元則 宣告 沒收 追徵 還可 上訴 林蔚山 董事 長 高等法院 關於通 達乙案 之判決 深感 遺憾 完全 不能 接受 將委由律師 提出 上訴 以求 清白 相信 林 董事 長 的 清白 並 支持 董事 長 上訴 以證明 其清譽 營運 業務 一切正常 不會 受該 案影 響',\n",
       " '最高法院 公告 判決 原判 決廢棄 發回 台灣 高等法院 投保 中心 向 北 地方法院 對本 董事 長 林蔚山 提起 解除 董事 職務訴 訟 案經 北 地方法院 高等法院 判決 駁 回 投保 中心 之訴 投保 中心 提起 上訴 最高 法 院 宣示 判決 主文 原判 決廢棄 發回 台灣 高等法院 台上 字 號 推選 董事 長 推選 由 林蔚山 續任 全面 改選 原董 現董 其中 董續 任 董事 長 林蔚山 續任 董事 董事 長 尚未 選任 董事 林 郭文艷續 任 獨立 董事 劉宗德續 任 獨立 董事 吳啟 銘續 任 董事 李龍 達續 任 董事 張益華續 任 改任 大學 代表人 董事 陳 火炎 大學 代表 卸任 獨立 董事 蘇鵬 飛續 任 董事 陳 守煌 新任 董事 蔡勝文 新任',\n",
       " '收到 灣 北 地方法院 全字 第號 緊急 處置 裁定 裁定 主文 相對 應將 申請 欣同 投資 顧問 共同 提名 董事 候選人欣 同 投資 顧問 代表人 楊 永明 林宏信 獨立 董事 候選人 林鵬良 列入 相 對人 股東常會 董事 獨立 董事 之候 選人 名單 並 禁止 相對 前為 任何 異動 之爭 藏鏡 人傳 是 台商 經營權 之爭 近期 傳出 神秘 的 市場 派 是 陸資 化身 不過 據 政府 部門 市場 人士 掌握 的 消息 市場 派 藏鏡 並非 陸資 而是 一票 在 香港 非常 實力 的 大陸 台商 據傳 甚至 掌握 到 股權 派構 成威脅 收盤價 元 報酬 下跌 收盤價 元 報酬 下跌 辭任 董 董事 林蔚東 卸任 收盤價 元 報酬 下跌 董事 配偶 林施 瑤珍 預計申 讓 張 股票 預計 申讓 比重 交易方式 一般 交易 每日 得轉 讓 股數 限制 董事 本人 林蔚東 預計 申讓 張 股票 預計 申讓 比重 交易方式 一般 交易 每日 得轉 讓 股數限 制 仁寶認 賠 出 清 持股 給 仁寶和 之間 針對華映 私募 股權 買 回案 的 爭議 告終 仁寶與 旗下 子公司 昨 宣布 將 手中 的 華映 持股 全數 賣 回予 總價 億元 雖然 仁寶早 在 三年 多前 全部 億元 投資 虧損 此次 出售 持股 對仁 寶財務 無 影響 但是 交易 稅由仁 寶負擔 也 讓 仁寶仍 蒙受 萬元 的 損失 最高法院 判決駁 回仁 寶 之上 訴 仁寶電腦 前 向 北 地方法院 民事 庭對本 提起 撤銷 仲裁 判斷 之訴 請求 撤銷 仲裁 判斷 經 北 地方法院 判決 駁 回 仁寶 不服 提起 第二 審 上訴 再經 灣 高等法院 駁回 仁寶 不服 向 最高法院 提起 上訴 經 最高 法院 判決駁 回仁 寶 之訴 本案 三 審定 讞']"
      ]
     },
     "execution_count": 39,
     "metadata": {},
     "output_type": "execute_result"
    }
   ],
   "source": [
    "w1"
   ]
  },
  {
   "cell_type": "code",
   "execution_count": 16,
   "metadata": {},
   "outputs": [],
   "source": [
    "w=w1+w2\n",
    "vectorizer = TfidfVectorizer()\n",
    "tfidf = vectorizer.fit_transform(w)\n",
    "words = vectorizer.get_feature_names()\n",
    "X = tfidf.toarray()\n",
    "X_std = StandardScaler().fit_transform(X)\n",
    "sklearn_pca = sklearnPCA(n_components = 2)\n",
    "Y_sklearn = sklearn_pca.fit_transform(X_std)"
   ]
  },
  {
   "cell_type": "code",
   "execution_count": 17,
   "metadata": {},
   "outputs": [
    {
     "data": {
      "text/plain": [
       "array([[ -1.96472851, -11.19950659],\n",
       "       [ 27.03029648,   9.47883574],\n",
       "       [  1.72912846,  -3.39025425],\n",
       "       [ -0.64181413,  -1.98738356],\n",
       "       [-14.33427854,  22.83764864],\n",
       "       [ -2.32946324,  -8.07304257],\n",
       "       [ -4.52962862,  -7.20848738],\n",
       "       [ -4.9595119 ,  -0.45781004]])"
      ]
     },
     "execution_count": 17,
     "metadata": {},
     "output_type": "execute_result"
    }
   ],
   "source": [
    "Y_sklearn"
   ]
  },
  {
   "cell_type": "code",
   "execution_count": 18,
   "metadata": {},
   "outputs": [
    {
     "data": {
      "text/plain": [
       "5"
      ]
     },
     "execution_count": 18,
     "metadata": {},
     "output_type": "execute_result"
    }
   ],
   "source": [
    "len(w1)"
   ]
  },
  {
   "cell_type": "code",
   "execution_count": 19,
   "metadata": {},
   "outputs": [
    {
     "data": {
      "text/plain": [
       "3"
      ]
     },
     "execution_count": 19,
     "metadata": {},
     "output_type": "execute_result"
    }
   ],
   "source": [
    "len(w2)"
   ]
  },
  {
   "cell_type": "code",
   "execution_count": 20,
   "metadata": {},
   "outputs": [
    {
     "data": {
      "image/png": "[encoded data removed]",
      "text/plain": [
       "<Figure size 432x288 with 1 Axes>"
      ]
     },
     "metadata": {},
     "output_type": "display_data"
    }
   ],
   "source": [
    "fig = plt.figure()\n",
    "ax1 = fig.add_subplot(111)\n",
    "ax1.scatter(x = Y_sklearn[:len(w1),0], y = Y_sklearn[:len(w1),1], s=10, c='b', label='w1')\n",
    "ax1.scatter(x = Y_sklearn[len(w1):,0], y = Y_sklearn[len(w1):,1], s=10, c='r', label='w2')\n",
    "plt.legend(loc='best');\n",
    "plt.show()"
   ]
  },
  {
   "cell_type": "code",
   "execution_count": 21,
   "metadata": {},
   "outputs": [
    {
     "data": {
      "text/plain": [
       "array([0, 1, 0, 0, 0, 0, 0, 0])"
      ]
     },
     "execution_count": 21,
     "metadata": {},
     "output_type": "execute_result"
    }
   ],
   "source": [
    "kmeans = KMeans(n_clusters = 2)\n",
    "X_clustered = kmeans.fit_predict(Y_sklearn)\n",
    "X_clustered"
   ]
  },
  {
   "cell_type": "code",
   "execution_count": 22,
   "metadata": {},
   "outputs": [
    {
     "name": "stderr",
     "output_type": "stream",
     "text": [
      "No handles with labels found to put in legend.\n"
     ]
    },
    {
     "data": {
      "image/png": "[encoded data removed]",
      "text/plain": [
       "<Figure size 432x288 with 1 Axes>"
      ]
     },
     "metadata": {},
     "output_type": "display_data"
    }
   ],
   "source": [
    "kmeans1position=[i for i,x in enumerate(X_clustered) if x == 0]\n",
    "kmeans2position=[i for i,x in enumerate(X_clustered) if x == 1]\n",
    "kmeans1=[]\n",
    "kmeans2=[]\n",
    "for i in kmeans1position:\n",
    "    kmeans1.append(Y_sklearn[i].tolist())\n",
    "for i in kmeans2position:\n",
    "    kmeans2.append(Y_sklearn[i].tolist())\n",
    "kmeans1=np.asarray(kmeans1)\n",
    "kmeans2=np.asarray(kmeans2)\n",
    "fig = plt.figure()\n",
    "ax1 = fig.add_subplot(111)\n",
    "ax1.scatter(x = kmeans1[:,0], y = kmeans1[:,1], s=10, c='black')\n",
    "ax1.scatter(x = kmeans2[:,0], y = kmeans2[:,1], s=10, c='green')\n",
    "plt.legend(loc='best');\n",
    "plt.show()"
   ]
  },
  {
   "cell_type": "code",
   "execution_count": 23,
   "metadata": {},
   "outputs": [],
   "source": [
    "import plotly\n",
    "import plotly.plotly as py\n",
    "import plotly.graph_objs as go\n",
    "plotly.tools.set_credentials_file(username='YangChunKai', api_key='KLWEiRRt706XJqTQckad')"
   ]
  },
  {
   "cell_type": "code",
   "execution_count": 24,
   "metadata": {},
   "outputs": [
    {
     "name": "stdout",
     "output_type": "stream",
     "text": [
      "High five! You successfully sent some data to your account on plotly. View your plot in your browser at https://plot.ly/~YangChunKai/0 or inside your plot.ly account where it is named 'PCA Scatter Chart'\n"
     ]
    },
    {
     "data": {
      "text/html": [
       "<iframe id=\"igraph\" scrolling=\"no\" style=\"border:none;\" seamless=\"seamless\" src=\"https://plot.ly/~YangChunKai/0.embed\" height=\"525px\" width=\"100%\"></iframe>"
      ],
      "text/plain": [
       "<plotly.tools.PlotlyDisplay object>"
      ]
     },
     "execution_count": 24,
     "metadata": {},
     "output_type": "execute_result"
    }
   ],
   "source": [
    "pca_data1 = go.Scatter(\n",
    "        x = Y_sklearn[:len(w1),0],\n",
    "        y = Y_sklearn[:len(w1),1],\n",
    "        name = 'pca_data1',\n",
    "        mode = \"markers\",\n",
    "        hoverinfo = 'text',\n",
    "        text = textfile1\n",
    "    )\n",
    "\n",
    "pca_data2 = go.Scatter(\n",
    "        x = Y_sklearn[len(w1):,0],\n",
    "        y = Y_sklearn[len(w1):,1],\n",
    "        name = 'pca_data2',\n",
    "        mode = \"markers\",\n",
    "        hoverinfo = 'text',\n",
    "        text = textfile2\n",
    "    )\n",
    "data = [pca_data1,pca_data2]\n",
    "py.iplot(data, filename = 'PCA Scatter Chart')"
   ]
  },
  {
   "cell_type": "code",
   "execution_count": 25,
   "metadata": {},
   "outputs": [
    {
     "data": {
      "text/html": [
       "<iframe id=\"igraph\" scrolling=\"no\" style=\"border:none;\" seamless=\"seamless\" src=\"https://plot.ly/~YangChunKai/4.embed\" height=\"525px\" width=\"100%\"></iframe>"
      ],
      "text/plain": [
       "<plotly.tools.PlotlyDisplay object>"
      ]
     },
     "execution_count": 25,
     "metadata": {},
     "output_type": "execute_result"
    }
   ],
   "source": [
    "kmeans_data1 = go.Scatter(\n",
    "        x = kmeans1[:,0],\n",
    "        y = kmeans1[:,1],\n",
    "        name = 'kmeans_data1',\n",
    "        mode = \"markers\",\n",
    "        hoverinfo = 'text',\n",
    "        text = textfile1\n",
    "    )\n",
    "\n",
    "kmeans_data2 = go.Scatter(\n",
    "        x = kmeans2[:,0],\n",
    "        y = kmeans2[:,1],\n",
    "        name = 'kmeans_data2',\n",
    "        mode = \"markers\",\n",
    "        hoverinfo = 'text',\n",
    "        text = textfile2\n",
    "    )\n",
    "data = [kmeans_data1,kmeans_data2]\n",
    "py.iplot(data, filename = 'kmeans Scatter Chart')"
   ]
  },
  {
   "cell_type": "code",
   "execution_count": null,
   "metadata": {},
   "outputs": [],
   "source": []
  },
  {
   "cell_type": "code",
   "execution_count": null,
   "metadata": {},
   "outputs": [],
   "source": []
  }
 ],
 "metadata": {
  "kernelspec": {
   "display_name": "Python 3",
   "language": "python",
   "name": "python3"
  },
  "language_info": {
   "codemirror_mode": {
    "name": "ipython",
    "version": 3
   },
   "file_extension": ".py",
   "mimetype": "text/x-python",
   "name": "python",
   "nbconvert_exporter": "python",
   "pygments_lexer": "ipython3",
   "version": "3.6.5"
  }
 },
 "nbformat": 4,
 "nbformat_minor": 2
}
